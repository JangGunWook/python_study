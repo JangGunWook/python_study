{
 "cells": [
  {
   "cell_type": "markdown",
   "metadata": {},
   "source": [
    "### 파이썬 활용 라이브러리 & 시각화 평가 답안지\n",
    "- 파일명에 본인 성명 기입하시오(Enter your name in the file name.)\n",
    "- 수업 중 배웠던 내용을 상기하여 최선을 다해 문제 풀어주세요.(Recall what you learned in class and do your best to solve the problem.)"
   ]
  },
  {
   "cell_type": "markdown",
   "metadata": {},
   "source": [
    "#### Question1\n",
    "다음은 어떤 차트에 대한 설명이다. 각 빈칸에 알맞은 답을 작성하시오."
   ]
  },
  {
   "cell_type": "markdown",
   "metadata": {},
   "source": [
    "① :  LinePlot\n",
    "② :  plot()"
   ]
  },
  {
   "cell_type": "markdown",
   "metadata": {},
   "source": [
    "#### Question2"
   ]
  },
  {
   "cell_type": "markdown",
   "metadata": {},
   "source": [
    "다음은 어떤 차트에 대한 출력물이다. 문제를 읽고 알맞은 답을 작성하시오. "
   ]
  },
  {
   "cell_type": "markdown",
   "metadata": {},
   "source": [
    "1) 이 차트의 명칭을 작성하시오."
   ]
  },
  {
   "cell_type": "markdown",
   "metadata": {},
   "source": [
    "bar chart"
   ]
  },
  {
   "cell_type": "markdown",
   "metadata": {},
   "source": [
    "2) 이 차트를 matplotlib.pyplot 라이브러리를 사용하여 시각화하기 위해서 어떤 함수를 사용하는지 작성하시오. "
   ]
  },
  {
   "cell_type": "markdown",
   "metadata": {},
   "source": [
    "# bar()사용\n",
    "\n",
    "import matplotlib.pyplot as plt\n",
    "\n",
    "import numpy as np\n",
    "\n",
    "x= np.array([0,1,2])\n",
    "\n",
    "y= np.array([100,400,900])\n",
    "\n",
    "plt.bar(x,y)\n",
    "\n",
    "plt.show()\n"
   ]
  },
  {
   "cell_type": "code",
   "execution_count": 2,
   "metadata": {},
   "outputs": [
    {
     "name": "stderr",
     "output_type": "stream",
     "text": [
      "C:\\Users\\smhrd\\AppData\\Roaming\\Python\\Python311\\site-packages\\IPython\\core\\pylabtools.py:152: UserWarning: Glyph 8722 (\\N{MINUS SIGN}) missing from current font.\n",
      "  fig.canvas.print_figure(bytes_io, **kw)\n"
     ]
    },
    {
     "data": {
      "image/png": "[encoded data removed]",
      "text/plain": [
       "<Figure size 640x480 with 1 Axes>"
      ]
     },
     "metadata": {},
     "output_type": "display_data"
    }
   ],
   "source": [
    "import matplotlib.pyplot as plt\n",
    "import numpy as np\n",
    "\n",
    "x= np.array([0,1,2])\n",
    "y= np.array([100,400,900])\n",
    "\n",
    "plt.bar(x,y)\n",
    "plt.show()\n"
   ]
  },
  {
   "cell_type": "markdown",
   "metadata": {},
   "source": [
    "#### Question3\n",
    "아래와 같이 리스트를 만들고 요소의 짝수/홀수를 구분하여 개수를 세는 프로그램을 작성하시오. "
   ]
  },
  {
   "cell_type": "code",
   "execution_count": 3,
   "metadata": {},
   "outputs": [
    {
     "name": "stdout",
     "output_type": "stream",
     "text": [
      "짝수 2개, 홀수 7개\n"
     ]
    }
   ],
   "source": [
    "list1 = [1,50,27,19,37,33,5,3,48]\n",
    "\n",
    "# 짝수\n",
    "even = 0\n",
    "#홀수\n",
    "odd = 0\n",
    "\n",
    "for i  in list1:\n",
    "    if i%2==0:\n",
    "        even += 1\n",
    "    else:\n",
    "        odd += 1\n",
    "        \n",
    "        \n",
    "print(f\"짝수 {even}개, 홀수 {odd}개\")        "
   ]
  },
  {
   "cell_type": "markdown",
   "metadata": {},
   "source": [
    "#### Question4\n",
    "다음 score_list에 들어있는 데이터를 이용해 아래와 같이 성적표를 만드는 프로그램을 작성하시오. (단, 학생의 숫자가 늘어나도 동작할 수 있도록 고려하시오.)"
   ]
  },
  {
   "cell_type": "code",
   "execution_count": 4,
   "metadata": {},
   "outputs": [
    {
     "data": {
      "text/plain": [
       "'C'"
      ]
     },
     "execution_count": 4,
     "metadata": {},
     "output_type": "execute_result"
    }
   ],
   "source": [
    "score_list = [['김미희',89,78,99],\n",
    "              ['서대희',67,88,77],\n",
    "              ['강예진',100,55,96]]\n",
    "\n",
    "\n",
    "# 과목 평균점수 python:1 java:2 DB:3\n",
    "def sub_avg(num):\n",
    "    sum = 0\n",
    "    count = 0\n",
    "\n",
    "    for row in score_list:\n",
    "        sum += row[num]\n",
    "        count += 1\n",
    "\n",
    "    avg = sum / count\n",
    "    return int(avg)\n",
    "\n",
    "sub_avg(1)\n",
    "\n",
    "\n",
    "# 학생 평균 점수 \n",
    "score_list[0][1:]\n",
    "def stu_avg(num):\n",
    "    sum = 0\n",
    "    count = 0\n",
    "\n",
    "    for row in score_list[num][1:]:\n",
    "        sum += row\n",
    "        count += 1\n",
    "\n",
    "    avg = sum / count\n",
    "    return int(avg)\n",
    "\n",
    "stu_avg(0)\n",
    "\n",
    "\n",
    "# 학점\n",
    "def grade(num):\n",
    "    sum = 0\n",
    "    count = 0\n",
    "\n",
    "    for row in score_list[num][1:]:\n",
    "        sum += row\n",
    "        count += 1\n",
    "\n",
    "    avg = sum / count\n",
    "\n",
    "    gra = ''\n",
    "    if avg >= 90:\n",
    "        gra = 'A'\n",
    "    elif avg >= 80:\n",
    "        gra = 'B' \n",
    "    elif avg >= 70:\n",
    "        gra = 'C'\n",
    "    elif avg >= 60:\n",
    "        gra = 'D'\n",
    "    else:\n",
    "        gra = 'F'\n",
    "    \n",
    "    return gra\n",
    "\n",
    "grade(1)\n",
    " "
   ]
  },
  {
   "cell_type": "code",
   "execution_count": 5,
   "metadata": {},
   "outputs": [
    {
     "name": "stdout",
     "output_type": "stream",
     "text": [
      "\n",
      "================================================\n",
      "   이름    Python    Java    DB   평균   학점\n",
      "================================================\n",
      "================================================\n",
      "  김미희      89      78     88    88     B\n",
      "  서대희      67      88     77    77     C\n",
      "  강예희     100      55     83    83     B\n",
      "================================================\n",
      "   평균      85       73     90\n",
      "================================================\n",
      "\n"
     ]
    }
   ],
   "source": [
    "print(f\"\"\"\n",
    "================================================\n",
    "   이름    Python    Java    DB   평균   학점\n",
    "================================================\n",
    "================================================\n",
    "  김미희      89      78     88    {stu_avg(0)}     {grade(0)}\n",
    "  서대희      67      88     77    {stu_avg(1)}     {grade(1)}\n",
    "  강예희     100      55     83    {stu_avg(2)}     {grade(2)}\n",
    "================================================\n",
    "   평균      {sub_avg(1)}       {sub_avg(2)}     {sub_avg(3)}\n",
    "================================================\n",
    "\"\"\")\n"
   ]
  },
  {
   "cell_type": "markdown",
   "metadata": {},
   "source": [
    "#### Question5\n",
    " X, Y1, Y2 리스트 자료를 활용하여 [실행결과]와 같은 그래프를 출력하는 프로그램을 작성하시오.  (단, 두 차트는 빨간색과 파란색을 통해 구별 하시오.)"
   ]
  },
  {
   "cell_type": "code",
   "execution_count": 6,
   "metadata": {},
   "outputs": [
    {
     "data": {
      "image/png": "[encoded data removed]",
      "text/plain": [
       "<Figure size 640x480 with 1 Axes>"
      ]
     },
     "metadata": {},
     "output_type": "display_data"
    }
   ],
   "source": [
    "import matplotlib.pyplot as plt\n",
    "import seaborn as sns\n",
    "import numpy as np\n",
    "import pandas as pd\n",
    "x = [2,3,4,5,6,7,8]\n",
    "y1 = [5,7,3,9,1,8,6]\n",
    "y2 = [9,5,7,2,3,7,1]\n",
    "from matplotlib import font_manager, rc\n",
    "\n",
    "plt.plot(x,y1,c='red',label = 'Y1')\n",
    "plt.plot(x,y2,c='blue',label ='Y2')\n",
    "plt.legend()\n",
    "plt.grid()\n",
    "plt.xlabel('X') \n",
    "plt.ylabel('Y') \n",
    "plt.show()\n"
   ]
  },
  {
   "cell_type": "markdown",
   "metadata": {},
   "source": [
    "#### Question6\n",
    "Traffic_Accident_2017.csv 데이터를 이용하여 ‘차대 사람’인 사건 중 야간에 발생한 사건에 대해 아래 주어진 조건을 지켜 다음과 같이 시각화 하시오.\n",
    "\n",
    "※ 조건 내용 반드시 확인할 것  \n",
    " 조건 1. 사고유형_대분류가 ‘차대사람’ 이면서 발생시간대가 ‘야간’인 경우의 사고 건수 카운트  \n",
    " 조건 2. y축의 범위는 0~200으로 설정할 것  \n",
    " 조건 3. 차트 내부 글씨는 한글로 표시할 것  "
   ]
  },
  {
   "cell_type": "code",
   "execution_count": 8,
   "metadata": {},
   "outputs": [
    {
     "data": {
      "text/html": [
       "<div>\n",
       "<style scoped>\n",
       "    .dataframe tbody tr th:only-of-type {\n",
       "        vertical-align: middle;\n",
       "    }\n",
       "\n",
       "    .dataframe tbody tr th {\n",
       "        vertical-align: top;\n",
       "    }\n",
       "\n",
       "    .dataframe thead th {\n",
       "        text-align: right;\n",
       "    }\n",
       "</style>\n",
       "<table border=\"1\" class=\"dataframe\">\n",
       "  <thead>\n",
       "    <tr style=\"text-align: right;\">\n",
       "      <th></th>\n",
       "      <th>사고</th>\n",
       "    </tr>\n",
       "    <tr>\n",
       "      <th>요일</th>\n",
       "      <th></th>\n",
       "    </tr>\n",
       "  </thead>\n",
       "  <tbody>\n",
       "    <tr>\n",
       "      <th>금</th>\n",
       "      <td>137</td>\n",
       "    </tr>\n",
       "    <tr>\n",
       "      <th>목</th>\n",
       "      <td>134</td>\n",
       "    </tr>\n",
       "    <tr>\n",
       "      <th>수</th>\n",
       "      <td>142</td>\n",
       "    </tr>\n",
       "    <tr>\n",
       "      <th>월</th>\n",
       "      <td>123</td>\n",
       "    </tr>\n",
       "    <tr>\n",
       "      <th>일</th>\n",
       "      <td>121</td>\n",
       "    </tr>\n",
       "    <tr>\n",
       "      <th>토</th>\n",
       "      <td>162</td>\n",
       "    </tr>\n",
       "    <tr>\n",
       "      <th>화</th>\n",
       "      <td>145</td>\n",
       "    </tr>\n",
       "  </tbody>\n",
       "</table>\n",
       "</div>"
      ],
      "text/plain": [
       "     사고\n",
       "요일     \n",
       "금   137\n",
       "목   134\n",
       "수   142\n",
       "월   123\n",
       "일   121\n",
       "토   162\n",
       "화   145"
      ]
     },
     "metadata": {},
     "output_type": "display_data"
    },
    {
     "data": {
      "text/plain": [
       "(0.0, 200.0)"
      ]
     },
     "execution_count": 8,
     "metadata": {},
     "output_type": "execute_result"
    },
    {
     "data": {
      "image/png": "[encoded data removed]",
      "text/plain": [
       "<Figure size 640x480 with 1 Axes>"
      ]
     },
     "metadata": {},
     "output_type": "display_data"
    }
   ],
   "source": [
    "\n",
    "from matplotlib import font_manager, rc\n",
    "\n",
    "# 한글폰트사용\n",
    "font_path = \"C:\\Windows\\Fonts\\malgun.ttf\"\n",
    "font_name = font_manager.FontProperties(fname = font_path).get_name()\n",
    "rc('font',family= font_name)\n",
    "\n",
    "\n",
    "\n",
    "data = pd.read_csv('.\\data\\Traffic_Accident_2017.csv', encoding ='euc-kr')\n",
    "data\n",
    "\n",
    "야간사상자수 = data[['요일','사상자수','사고유형_대분류','주야']].query('사고유형_대분류 == \"차대사람\" and 주야==\"야간\"').groupby('요일').agg(사고 = ('사상자수','count'))\n",
    "\n",
    "display(야간사상자수)\n",
    "\n",
    "x_요일 = 야간사상자수.index\n",
    "y_사상자 = 야간사상자수['사고']\n",
    "\n",
    "plt.bar(x_요일, y_사상자)\n",
    "# Y축 0~200\n",
    "plt.ylim(0,200)"
   ]
  },
  {
   "cell_type": "markdown",
   "metadata": {},
   "source": [
    "### 수고하셨습니다 ."
   ]
  }
 ],
 "metadata": {
  "kernelspec": {
   "display_name": "Python 3 (ipykernel)",
   "language": "python",
   "name": "python3"
  },
  "language_info": {
   "codemirror_mode": {
    "name": "ipython",
    "version": 3
   },
   "file_extension": ".py",
   "mimetype": "text/x-python",
   "name": "python",
   "nbconvert_exporter": "python",
   "pygments_lexer": "ipython3",
   "version": "3.11.4"
  },
  "toc": {
   "base_numbering": 1,
   "nav_menu": {},
   "number_sections": true,
   "sideBar": true,
   "skip_h1_title": false,
   "title_cell": "Table of Contents",
   "title_sidebar": "Contents",
   "toc_cell": false,
   "toc_position": {},
   "toc_section_display": true,
   "toc_window_display": false
  },
  "varInspector": {
   "cols": {
    "lenName": 16,
    "lenType": 16,
    "lenVar": 40
   },
   "kernels_config": {
    "python": {
     "delete_cmd_postfix": "",
     "delete_cmd_prefix": "del ",
     "library": "var_list.py",
     "varRefreshCmd": "print(var_dic_list())"
    },
    "r": {
     "delete_cmd_postfix": ") ",
     "delete_cmd_prefix": "rm(",
     "library": "var_list.r",
     "varRefreshCmd": "cat(var_dic_list()) "
    }
   },
   "types_to_exclude": [
    "module",
    "function",
    "builtin_function_or_method",
    "instance",
    "_Feature"
   ],
   "window_display": false
  }
 },
 "nbformat": 4,
 "nbformat_minor": 4
}
